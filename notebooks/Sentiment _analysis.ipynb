{
 "cells": [
  {
   "cell_type": "markdown",
   "id": "5c45fc7a",
   "metadata": {},
   "source": [
    "Load a liabrary and data"
   ]
  },
  {
   "cell_type": "code",
   "execution_count": 29,
   "id": "20bb7fbf",
   "metadata": {},
   "outputs": [
    {
     "name": "stderr",
     "output_type": "stream",
     "text": [
      "C:\\Users\\Administrator\\AppData\\Local\\Temp\\ipykernel_19276\\2400745963.py:10: FutureWarning: In a future version of pandas, parsing datetimes with mixed time zones will raise an error unless `utc=True`. Please specify `utc=True` to opt in to the new behaviour and silence this warning. To create a `Series` with mixed offsets and `object` dtype, please use `apply` and `datetime.datetime.strptime`\n",
      "  news_df['Date'] = pd.to_datetime(news_df['Date'], format='mixed')\n"
     ]
    }
   ],
   "source": [
    "import pandas as pd\n",
    "from textblob import TextBlob\n",
    "import matplotlib.pyplot as plt\n",
    "import seaborn as sns\n",
    "from scipy.stats import pearsonr\n",
    "\n",
    "\n",
    "# Load headline data (using your provided dataset)\n",
    "news_df = pd.read_csv('../data/raw_analyst_ratings.csv', parse_dates=['Date'])\n",
    "news_df['Date'] = pd.to_datetime(news_df['Date'], format='mixed')\n",
    "\n",
    "# Load stock data (using your provided dataset)\n",
    "stock_df = pd.read_csv('../data/yfinance_data/TSLA_historical_data.csv', parse_dates=['Date'])\n",
    "stock_df['Date'] = stock_df['Date'].dt.date\n",
    "\n",
    "\n"
   ]
  },
  {
   "cell_type": "markdown",
   "id": "93d3a8a5",
   "metadata": {},
   "source": [
    "Sentiment Analysis on Headlines"
   ]
  },
  {
   "cell_type": "code",
   "execution_count": null,
   "id": "118d1c1c",
   "metadata": {},
   "outputs": [
    {
     "name": "stderr",
     "output_type": "stream",
     "text": [
      "C:\\Users\\Administrator\\AppData\\Local\\Temp\\ipykernel_19276\\191771364.py:20: FutureWarning: A value is trying to be set on a copy of a DataFrame or Series through chained assignment using an inplace method.\n",
      "The behavior will change in pandas 3.0. This inplace method will never work because the intermediate object on which we are setting values always behaves as a copy.\n",
      "\n",
      "For example, when doing 'df[col].method(value, inplace=True)', try using 'df.method({col: value}, inplace=True)' or df[col] = df[col].method(value) instead, to perform the operation inplace on the original object.\n",
      "\n",
      "\n",
      "  combined_df['sentiment'].fillna(method='ffill', inplace=True)\n",
      "C:\\Users\\Administrator\\AppData\\Local\\Temp\\ipykernel_19276\\191771364.py:20: FutureWarning: Series.fillna with 'method' is deprecated and will raise in a future version. Use obj.ffill() or obj.bfill() instead.\n",
      "  combined_df['sentiment'].fillna(method='ffill', inplace=True)\n",
      "C:\\Users\\Administrator\\AppData\\Local\\Temp\\ipykernel_19276\\191771364.py:21: FutureWarning: A value is trying to be set on a copy of a DataFrame or Series through chained assignment using an inplace method.\n",
      "The behavior will change in pandas 3.0. This inplace method will never work because the intermediate object on which we are setting values always behaves as a copy.\n",
      "\n",
      "For example, when doing 'df[col].method(value, inplace=True)', try using 'df.method({col: value}, inplace=True)' or df[col] = df[col].method(value) instead, to perform the operation inplace on the original object.\n",
      "\n",
      "\n",
      "  combined_df['sentiment_label'].fillna(method='ffill', inplace=True)\n",
      "C:\\Users\\Administrator\\AppData\\Local\\Temp\\ipykernel_19276\\191771364.py:21: FutureWarning: Series.fillna with 'method' is deprecated and will raise in a future version. Use obj.ffill() or obj.bfill() instead.\n",
      "  combined_df['sentiment_label'].fillna(method='ffill', inplace=True)\n"
     ]
    },
    {
     "ename": "ValueError",
     "evalue": "`x` and `y` must have the same length along `axis`.",
     "output_type": "error",
     "traceback": [
      "\u001b[31m---------------------------------------------------------------------------\u001b[39m",
      "\u001b[31mValueError\u001b[39m                                Traceback (most recent call last)",
      "\u001b[32m~\\AppData\\Local\\Temp\\ipykernel_19276\\191771364.py\u001b[39m in \u001b[36m?\u001b[39m\u001b[34m()\u001b[39m\n\u001b[32m     20\u001b[39m combined_df[\u001b[33m'sentiment'\u001b[39m].fillna(method=\u001b[33m'ffill'\u001b[39m, inplace=\u001b[38;5;28;01mTrue\u001b[39;00m)\n\u001b[32m     21\u001b[39m combined_df[\u001b[33m'sentiment_label'\u001b[39m].fillna(method=\u001b[33m'ffill'\u001b[39m, inplace=\u001b[38;5;28;01mTrue\u001b[39;00m)\n\u001b[32m     22\u001b[39m \n\u001b[32m     23\u001b[39m \u001b[38;5;66;03m# 4. Correlation Analysis\u001b[39;00m\n\u001b[32m---> \u001b[39m\u001b[32m24\u001b[39m correlation, p_value = pearsonr(combined_df['sentiment'].dropna(), \n\u001b[32m     25\u001b[39m                                combined_df[\u001b[33m'daily_return'\u001b[39m].dropna())\n\u001b[32m     26\u001b[39m \n\u001b[32m     27\u001b[39m print(f\"Pearson Correlation: {correlation:.3f}\")\n",
      "\u001b[32mc:\\Users\\Administrator\\Desktop\\10 Acadamy\\new\\Predicting-Price-Moves-with-News-Sentiment\\.venv\\Lib\\site-packages\\scipy\\stats\\_stats_py.py\u001b[39m in \u001b[36m?\u001b[39m\u001b[34m(x, y, alternative, method, axis)\u001b[39m\n\u001b[32m   4545\u001b[39m     axis = axis_int\n\u001b[32m   4546\u001b[39m \n\u001b[32m   4547\u001b[39m     n = x.shape[axis]\n\u001b[32m   4548\u001b[39m     \u001b[38;5;28;01mif\u001b[39;00m n != y.shape[axis]:\n\u001b[32m-> \u001b[39m\u001b[32m4549\u001b[39m         \u001b[38;5;28;01mraise\u001b[39;00m ValueError(\u001b[33m'`x` and `y` must have the same length along `axis`.'\u001b[39m)\n\u001b[32m   4550\u001b[39m \n\u001b[32m   4551\u001b[39m     \u001b[38;5;28;01mif\u001b[39;00m n < \u001b[32m2\u001b[39m:\n\u001b[32m   4552\u001b[39m         \u001b[38;5;28;01mraise\u001b[39;00m ValueError(\u001b[33m'`x` and `y` must have length at least 2.'\u001b[39m)\n",
      "\u001b[31mValueError\u001b[39m: `x` and `y` must have the same length along `axis`."
     ]
    }
   ],
   "source": [
    "# 1. Sentiment Analysis\n",
    "def analyze_sentiment(text):\n",
    "    analysis = TextBlob(text)\n",
    "    return analysis.sentiment.polarity  # Returns polarity score between -1 and 1\n",
    "\n",
    "news_df['sentiment'] = news_df['headline'].apply(analyze_sentiment)\n",
    "\n",
    "# Classify sentiment\n",
    "news_df['sentiment_label'] = pd.cut(news_df['sentiment'],\n",
    "                                   bins=[-1, -0.1, 0.1, 1],\n",
    "                                   labels=['negative', 'neutral', 'positive'])\n",
    "\n",
    "# 2. Calculate Daily Stock Returns\n",
    "stock_df['daily_return'] = stock_df['Close'].pct_change() * 100  # Percentage returns\n",
    "\n",
    "# 3. Merge datasets on date\n",
    "combined_df = pd.merge(stock_df, news_df, on='Date', how='left')\n",
    "\n",
    "# Forward fill sentiment for days without news (simple approach)\n",
    "combined_df['sentiment'].fillna(method='ffill', inplace=True)\n",
    "combined_df['sentiment_label'].fillna(method='ffill', inplace=True)\n",
    "\n",
    "# 4. Correlation Analysis\n",
    "\n",
    "# Create a temporary DataFrame with only the relevant columns and drop NaNs from both simultaneously\n",
    "temp_df = combined_df[['sentiment', 'daily_return']].dropna()\n",
    "\n",
    "# Now perform the correlation on the cleaned data\n",
    "correlation, p_value = pearsonr(temp_df['sentiment'], temp_df['daily_return'])\n",
    "\n",
    "print(f\"Pearson Correlation: {correlation:.3f}\")\n",
    "print(f\"P-value: {p_value:.3f}\")\n",
    "\n",
    "# 5. Visualization\n",
    "plt.figure(figsize=(14, 10))\n",
    "\n",
    "# Plot 1: Sentiment and Returns Over Time\n",
    "plt.subplot(2, 2, 1)\n",
    "plt.plot(combined_df['Date'], combined_df['sentiment'], label='Sentiment Score', color='blue')\n",
    "plt.plot(combined_df['Date'], combined_df['daily_return'], label='Daily Returns (%)', color='green', alpha=0.7)\n",
    "plt.title('Sentiment vs. Stock Returns Over Time')\n",
    "plt.ylabel('Score/Returns')\n",
    "plt.legend()\n",
    "plt.grid(True)\n",
    "\n",
    "# Plot 2: Sentiment Distribution\n",
    "plt.subplot(2, 2, 2)\n",
    "sns.countplot(x='sentiment_label', data=combined_df, order=['negative', 'neutral', 'positive'])\n",
    "plt.title('Distribution of News Sentiment')\n",
    "plt.xlabel('Sentiment Category')\n",
    "plt.ylabel('Count')\n",
    "\n",
    "# Plot 3: Returns by Sentiment Category\n",
    "plt.subplot(2, 2, 3)\n",
    "sns.boxplot(x='sentiment_label', y='daily_return', data=combined_df, \n",
    "            order=['negative', 'neutral', 'positive'])\n",
    "plt.title('Daily Returns by Sentiment Category')\n",
    "plt.xlabel('Sentiment Category')\n",
    "plt.ylabel('Daily Return (%)')\n",
    "\n",
    "# Plot 4: Correlation Scatter Plot\n",
    "plt.subplot(2, 2, 4)\n",
    "sns.regplot(x='sentiment', y='daily_return', data=combined_df,\n",
    "            scatter_kws={'alpha':0.5}, line_kws={'color':'red'})\n",
    "plt.title(f'Sentiment-Return Correlation (r = {correlation:.2f})')\n",
    "plt.xlabel('Sentiment Score')\n",
    "plt.ylabel('Daily Return (%)')\n",
    "\n",
    "plt.tight_layout()\n",
    "plt.show()"
   ]
  },
  {
   "cell_type": "code",
   "execution_count": null,
   "id": "0733a9a5",
   "metadata": {},
   "outputs": [],
   "source": []
  }
 ],
 "metadata": {
  "kernelspec": {
   "display_name": ".venv",
   "language": "python",
   "name": "python3"
  },
  "language_info": {
   "codemirror_mode": {
    "name": "ipython",
    "version": 3
   },
   "file_extension": ".py",
   "mimetype": "text/x-python",
   "name": "python",
   "nbconvert_exporter": "python",
   "pygments_lexer": "ipython3",
   "version": "3.12.3"
  }
 },
 "nbformat": 4,
 "nbformat_minor": 5
}
